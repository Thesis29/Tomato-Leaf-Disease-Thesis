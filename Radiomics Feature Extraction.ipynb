{
 "cells": [
  {
   "cell_type": "markdown",
   "metadata": {},
   "source": [
    "#   Overview\n",
    "In this notebook we load the data and view different images to get a better idea about the challenge we are facing. This is always a very helpful first step. It is also important that you can see and try to make some of your own predictions about the data. If you cannot see differences between the groups it is going to be difficult for a biomarker to capture that (but not necessarily impossible)"
   ]
  },
  {
   "cell_type": "markdown",
   "metadata": {},
   "source": [
    "Install the PyRadiomics package read more about it here (https://pyradiomics.readthedocs.io/en/latest/)"
   ]
  },
  {
   "cell_type": "code",
   "execution_count": null,
   "metadata": {},
   "outputs": [],
   "source": [
    "# special functions for using pyradiomics\n",
    "from SimpleITK import GetImageFromArray\n",
    "import radiomics\n",
    "from radiomics.featureextractor import RadiomicsFeatureExtractor # This module is used for interaction with pyradiomic\n",
    "import logging\n",
    "logging.getLogger('radiomics').setLevel(logging.CRITICAL + 1)  # this tool makes a whole TON of log noise"
   ]
  },
  {
   "cell_type": "markdown",
   "metadata": {},
   "source": [
    "### Setup the PyRadiomics Code"
   ]
  },
  {
   "cell_type": "code",
   "execution_count": null,
   "metadata": {},
   "outputs": [],
   "source": [
    "# Instantiate the extractor\n",
    "texture_extractor = RadiomicsFeatureExtractor(verbose=False)\n",
    "texture_extractor.disableAllFeatures()\n",
    "_text_feat = {ckey: [] for ckey in texture_extractor.featureClassNames}\n",
    "texture_extractor.enableFeaturesByName(**_text_feat)\n",
    "\n",
    "print('Extraction parameters:\\n\\t', texture_extractor.settings)\n",
    "print('Enabled filters:\\n\\t', texture_extractor.enabledImagetypes) \n",
    "print('Enabled features:\\n\\t', texture_extractor.enabledFeatures) "
   ]
  },
  {
   "cell_type": "code",
   "execution_count": null,
   "metadata": {},
   "outputs": [],
   "source": [
    "import numpy as np # for manipulating 3d images\n",
    "import pandas as pd # for reading and writing tables\n",
    "import h5py # for reading the image files\n",
    "import skimage # for image processing and visualizations\n",
    "import sklearn # for machine learning and statistical models\n",
    "import os # help us load files and deal with paths\n",
    "from pathlib import Path # help manage files\n",
    "import glob\n",
    "import cv2"
   ]
  },
  {
   "cell_type": "markdown",
   "metadata": {},
   "source": [
    "### Plot Setup Code\n",
    "Here we setup the defaults to make the plots look a bit nicer for the notebook"
   ]
  },
  {
   "cell_type": "code",
   "execution_count": null,
   "metadata": {
    "_cell_guid": "b1076dfc-b9ad-4769-8c92-a6c4dae69d19",
    "_uuid": "8f2839f25d086af736a60e9eeb907d3b93b6e0e5"
   },
   "outputs": [],
   "source": [
    "%matplotlib inline\n",
    "import matplotlib.pyplot as plt\n",
    "from mpl_toolkits.mplot3d import Axes3D\n",
    "import seaborn as sns\n",
    "plt.rcParams[\"figure.figsize\"] = (8, 8)\n",
    "plt.rcParams[\"figure.dpi\"] = 125\n",
    "plt.rcParams[\"font.size\"] = 14\n",
    "plt.rcParams['font.family'] = ['sans-serif']\n",
    "plt.rcParams['font.sans-serif'] = ['DejaVu Sans']\n",
    "plt.style.use('ggplot')\n",
    "sns.set_style(\"whitegrid\", {'axes.grid': False})"
   ]
  },
  {
   "cell_type": "markdown",
   "metadata": {},
   "source": [
    "# Load the Training Data\n",
    "We start with the training data since we have labels for them and can look in more detail"
   ]
  },
  {
   "cell_type": "code",
   "execution_count": null,
   "metadata": {},
   "outputs": [],
   "source": [
    "train_df=pd.read_csv('D:\\\\Final Semester Project\\\\Final Dataset\\\\Tomato Yellow Leaf Curl Virus\\\\Train.csv')\n",
    "#train_df = pd.read_csv('../input/train.csv')\n",
    "train_df.head(10) # show the first 5 lines"
   ]
  },
  {
   "cell_type": "markdown",
   "metadata": {},
   "source": [
    "# Read Image"
   ]
  },
  {
   "cell_type": "code",
   "execution_count": null,
   "metadata": {},
   "outputs": [],
   "source": [
    "  def read_scan(in_filename, folder='Tomato Yellow Leaf Curl Virus'):\n",
    "    full_scan_path = os.path.join('D:\\\\Final Semester Project\\\\Final Dataset\\\\Tomato Yellow Leaf Curl Virus', in_filename)\n",
    "    # load the image using jpg\n",
    "    data=str(full_scan_path)\n",
    "    images=cv2.imread(data)\n",
    "    return images"
   ]
  },
  {
   "cell_type": "markdown",
   "metadata": {},
   "source": [
    "# Load a Scan \n",
    "- the data on kaggle are located in a parent folder called input. \n",
    "- Since the files have been organized into train and test we use the train folder"
   ]
  },
  {
   "cell_type": "code",
   "execution_count": null,
   "metadata": {},
   "outputs": [],
   "source": [
    "sample_scan = train_df.iloc[0] # just take the first row\n",
    "print(sample_scan)\n",
    "image_data = read_scan(sample_scan['image_path'])\n",
    "print('Image Shape:', image_data.shape)"
   ]
  },
  {
   "cell_type": "code",
   "execution_count": null,
   "metadata": {},
   "outputs": [],
   "source": [
    "type(image_data)"
   ]
  },
  {
   "cell_type": "markdown",
   "metadata": {},
   "source": [
    "# Image Lavel\n",
    "- Check the each image error label\n"
   ]
  },
  {
   "cell_type": "code",
   "execution_count": null,
   "metadata": {},
   "outputs": [],
   "source": [
    "length=len(train_df)\n",
    "i=0\n",
    "while(i<length):    \n",
    "    sample_scan = train_df.iloc[i]#just take the first row\n",
    "    print(sample_scan)\n",
    "    image_data = read_scan(sample_scan['image_path'])\n",
    "    print('Image Shape:', image_data.shape)\n",
    "    #print(image_data)\n",
    "    results = texture_extractor.execute(GetImageFromArray(image_data),\n",
    "                                GetImageFromArray((image_data>0).astype(np.uint8)))\n",
    "    i+=1\n",
    "    print(\"image No:\"+str(i)+\"ok\")"
   ]
  },
  {
   "cell_type": "markdown",
   "metadata": {},
   "source": [
    "# Calculate Radiomic Features\n",
    "Calculate the radiomic features for the test scan"
   ]
  },
  {
   "cell_type": "code",
   "execution_count": null,
   "metadata": {},
   "outputs": [],
   "source": [
    "# we take a mask by just keeping the part of the image greater than 0\n",
    "plt.imshow(np.sum((image_data>60).astype(float), -1))"
   ]
  },
  {
   "cell_type": "code",
   "execution_count": null,
   "metadata": {},
   "outputs": [],
   "source": [
    "%%time\n",
    "results = texture_extractor.execute(GetImageFromArray(image_data),\n",
    "                            GetImageFromArray((image_data>0).astype(np.uint8)))"
   ]
  },
  {
   "cell_type": "code",
   "execution_count": null,
   "metadata": {},
   "outputs": [],
   "source": [
    "pd.DataFrame([results]).T"
   ]
  },
  {
   "cell_type": "code",
   "execution_count": null,
   "metadata": {},
   "outputs": [],
   "source": [
    "def calc_radiomics(in_image_data):\n",
    "    return texture_extractor.execute(GetImageFromArray(in_image_data),\n",
    "                            GetImageFromArray((in_image_data>0).astype(np.uint8)))"
   ]
  },
  {
   "cell_type": "markdown",
   "metadata": {},
   "source": [
    "# Run over all scans\n",
    "We use the `.map` function from pandas to calculate the brightness for all the scans"
   ]
  },
  {
   "cell_type": "code",
   "execution_count": null,
   "metadata": {},
   "outputs": [],
   "source": [
    "%%time\n",
    "train_df['radiomics'] = train_df['image_path'].map(lambda c_filename: calc_radiomics(read_scan(c_filename)))"
   ]
  },
  {
   "cell_type": "code",
   "execution_count": null,
   "metadata": {},
   "outputs": [],
   "source": [
    "new_train_df = pd.DataFrame([dict(**c_row.pop('radiomics'), **c_row) for _, c_row in train_df.iterrows()])\n",
    "print(new_train_df.shape, 'data prepared')\n",
    "new_train_df.sample(10)"
   ]
  },
  {
   "cell_type": "markdown",
   "metadata": {},
   "source": [
    "# Numpy Array"
   ]
  },
  {
   "cell_type": "code",
   "execution_count": null,
   "metadata": {},
   "outputs": [],
   "source": [
    "numpyheader = np.array(new_train_df.columns)\n",
    "column = np.array(new_train_df)"
   ]
  },
  {
   "cell_type": "code",
   "execution_count": null,
   "metadata": {},
   "outputs": [],
   "source": [
    "import pandas as pd\n",
    "pd.DataFrame(column).to_csv(r'D:\\\\Final Semester Project\\\\Final Dataset\\\\Tomato Yellow Leaf Curl Virus\\\\dataset.csv',header=numpyheader)"
   ]
  },
  {
   "cell_type": "markdown",
   "metadata": {},
   "source": [
    "# Run Train and Test data"
   ]
  },
  {
   "cell_type": "code",
   "execution_count": null,
   "metadata": {},
   "outputs": [],
   "source": [
    "from numpy.random import RandomState\n",
    "df = pd.read_csv('D:\\\\Final Semester Project\\\\Final Dataset\\\\Tomato Yellow Leaf Curl Virus\\\\dataset.csv')\n",
    "rng = RandomState()\n",
    "train = df.sample(frac=0.8, random_state=rng) #80% traning data\n",
    "test = df.loc[~df.index.isin(train.index)]  #20% test data"
   ]
  },
  {
   "cell_type": "code",
   "execution_count": null,
   "metadata": {},
   "outputs": [],
   "source": [
    "print(train,test)"
   ]
  },
  {
   "cell_type": "code",
   "execution_count": null,
   "metadata": {},
   "outputs": [],
   "source": [
    "train.to_csv('D:\\\\Final Semester Project\\\\Final Dataset\\\\Tomato Yellow Leaf Curl Virus\\\\train.csv', index=False)\n",
    "train.sample(8)"
   ]
  },
  {
   "cell_type": "code",
   "execution_count": null,
   "metadata": {},
   "outputs": [],
   "source": [
    "test.to_csv('D:\\\\Final Semester Project\\\\Final Dataset\\\\Tomato Yellow Leaf Curl Virus\\\\test.csv', index=False)\n",
    "test.sample(2)"
   ]
  },
  {
   "cell_type": "code",
   "execution_count": null,
   "metadata": {},
   "outputs": [],
   "source": []
  }
 ],
 "metadata": {
  "kernelspec": {
   "display_name": "Python 3",
   "language": "python",
   "name": "python3"
  },
  "language_info": {
   "codemirror_mode": {
    "name": "ipython",
    "version": 3
   },
   "file_extension": ".py",
   "mimetype": "text/x-python",
   "name": "python",
   "nbconvert_exporter": "python",
   "pygments_lexer": "ipython3",
   "version": "3.7.6"
  }
 },
 "nbformat": 4,
 "nbformat_minor": 1
}
